{
 "cells": [
  {
   "cell_type": "code",
   "execution_count": 2,
   "metadata": {},
   "outputs": [
    {
     "name": "stderr",
     "output_type": "stream",
     "text": [
      "Using TensorFlow backend.\n"
     ]
    }
   ],
   "source": [
    "import pandas as pd\n",
    "import numpy as np\n",
    "import matplotlib.pyplot as plt\n",
    "import matplotlib.image as mpimg\n",
    "import seaborn as sns\n",
    "%matplotlib inline\n",
    "\n",
    "np.random.seed(2)\n",
    "\n",
    "from sklearn.model_selection import train_test_split\n",
    "from sklearn.metrics import confusion_matrix\n",
    "import itertools\n",
    "\n",
    "from keras.utils.np_utils import to_categorical # convert to one-hot-encoding\n",
    "from keras.models import Sequential\n",
    "from keras.layers import Dense, Dropout, Flatten, Conv2D, MaxPool2D, MaxPooling2D, Conv1D\n",
    "from keras.optimizers import RMSprop\n",
    "from keras.preprocessing.image import ImageDataGenerator\n",
    "from keras.callbacks import ReduceLROnPlateau\n",
    "from keras.layers.wrappers import TimeDistributed\n",
    "from keras.layers import Dense, LSTM, Dropout, GRU, Bidirectional\n",
    "from sklearn.metrics import classification_report, confusion_matrix\n",
    "\n",
    "import random\n",
    "import tensorflow as tf\n",
    "\n",
    "\n",
    "sns.set(style='white', context='notebook', palette='deep')\n",
    "\n",
    "from datetime import datetime\n",
    "\n",
    "# datetime object containing current date and time\n",
    "start_time = datetime.now()\n",
    "import gc"
   ]
  },
  {
   "cell_type": "code",
   "execution_count": 3,
   "metadata": {},
   "outputs": [],
   "source": [
    "# Movie lens 100 K dataset\n",
    "import os\n",
    "data_dir=\""\n", ## should be filled with directory of input data
    "names = ['user_id', 'item_id', 'rating', 'timestamp']\n",
    "movie_db = pd.read_csv(os.path.join(data_dir, 'u.data'), '\\t', names=names,\n",
    "                       engine='python')\n",
    "\n",
    "movie_db.head()\n",
    "movie_db['date'] = pd.to_datetime(movie_db['timestamp'].astype(int), unit='s')\n",
    "movie_db['date1'] = pd.to_datetime(movie_db['date'],format=\"%m/%d/%Y\").dt.strftime('%Y-%m-%d')\n",
    "movie_db=movie_db[['user_id','item_id','rating','date1']]\n",
    "\n"
   ]
  },
  {
   "cell_type": "markdown",
   "metadata": {},
   "source": [
    "# extracting info from database"
   ]
  },
  {
   "cell_type": "code",
   "execution_count": 4,
   "metadata": {},
   "outputs": [
    {
     "name": "stdout",
     "output_type": "stream",
     "text": [
      "attack day is:  ['1997-12-05']\n"
     ]
    }
   ],
   "source": [
    "item_info=movie_db.groupby('item_id', as_index=False).rating.agg({np.mean, np.var})\n",
    "item_info.reset_index(level=0, inplace=True)\n",
    "target_size=100\n",
    "selected_item_size=20\n",
    "performance=pd.DataFrame(columns=['attack_model','attack size','filler size','test_or_train','accuracy','recall','F1'])\n",
    "\n",
    "x=0.01 ## percentage of fillers for AOP attack\n",
    "avg_rating=movie_db['rating'].mean() \n",
    "std_rating=movie_db['rating'].std() \n",
    "#selected_items to be chosen from highly popular items , items that are rated by most of users ( highest number of ratings)\n",
    "#item_info1=\n",
    "#movie_db.groupby('item_id', as_index=False)['rating'].mean()\n",
    "attack_date=random.sample(list(movie_db['date1'].unique()),1)\n",
    "print('attack day is: ',attack_date)"
   ]
  },
  {
   "cell_type": "markdown",
   "metadata": {},
   "source": [
    "# injecting fake ratings as attacks"
   ]
  },
  {
   "cell_type": "code",
   "execution_count": 5,
   "metadata": {},
   "outputs": [
    {
     "name": "stdout",
     "output_type": "stream",
     "text": [
      "number of fake profiles generated is: \n",
      " 94\n",
      "number of target items selected is: \n",
      " 100\n",
      "number of selected items  is: \n",
      " 13\n",
      "number of filler items selected for AOP attack is: \n",
      " 16\n"
     ]
    }
   ],
   "source": [
    "#for attack_i in ('random', 'average', 'bandwagon','AOP'):\n",
    "    #for filler_i in (0.05):#(0.01,0.03,0.05,0.07,0.09):\n",
    "     #   \n",
    "#for attacksize_j in (0.1,0.15,0.2):\n",
    "attack_model='AOP'#attack_i\n",
    "filler_size= 0.01#filler_i # from 1% to 10% which is 1% of items excluding target items\n",
    "attack_size= 0.1\n",
    "fake_db = pd.DataFrame( columns=['user_id', 'item_id', 'rating', 'date1'])\n",
    "fake_profile=[]\n",
    "filler_db=pd.DataFrame(columns=['user_id', 'item_id', 'rating', 'date1'])\n",
    "target_db=pd.DataFrame(columns=['user_id', 'item_id', 'rating', 'date1'])\n",
    "selected_db=pd.DataFrame(columns=['user_id', 'item_id', 'rating', 'date1'])\n",
    "# defining fake profiles\n",
    "for i in range (round(attack_size*movie_db['user_id'].nunique())):\n",
    "    fake_profile.append(movie_db['user_id'].max()+(i+1))\n",
    "print('number of fake profiles generated is: \\n',round(attack_size*movie_db['user_id'].nunique()))\n",
    "\n",
    "#defining target items\n",
    "#30 items are choosen randomly out of 1682 items\n",
    "target_items=random.sample(list(movie_db['item_id'].unique()),target_size)\n",
    "print('number of target items selected is: \\n',target_size)\n",
    "\n",
    "\n",
    "#defining filler items\n",
    "fillers = [x for x in list(movie_db['item_id']) if x not in target_items]\n",
    "#randomly choosed filler items based on filler size\n",
    "filler_items=random.sample(fillers,round(filler_size*len(set(fillers))))\n",
    "\n",
    "\n",
    "\n",
    "\n",
    "#defining selected items\n",
    "selected=movie_db.groupby('item_id', as_index=False)['rating'].count()\n",
    "selected=selected[selected['rating']>round(0.4*movie_db['user_id'].nunique())]\n",
    "selected_items=[x for x in selected['item_id'] if x not in target_items if x not in filler_items]\n",
    "print('number of selected items  is: \\n',len(set(selected_items)))\n",
    "\n",
    "#insert ratings for filler items\n",
    "filler_db.drop(filler_db.index, inplace=True)\n",
    "for i in filler_items:\n",
    "    if attack_model=='random':\n",
    "        filler_db=filler_db.append(pd.DataFrame({'user_id': random.sample(fake_profile,1), 'item_id': i ,'rating':round(np.random.normal(avg_rating, std_rating),2),'date1':[attack_date[0]]}), ignore_index=True)\n",
    "    if attack_model=='average':\n",
    "        filler_db=filler_db.append(pd.DataFrame({'user_id': random.sample(fake_profile,1), 'item_id': i ,'rating':item_info.loc[item_info['item_id']==i,'mean'],'date1':[attack_date[0]]}), ignore_index=True)\n",
    "    if attack_model=='bandwagon':\n",
    "        filler_db=filler_db.append(pd.DataFrame({'user_id': random.sample(fake_profile,1), 'item_id': i ,'rating':round(np.random.normal(avg_rating, std_rating),2),'date1':[attack_date[0]]}), ignore_index=True)\n",
    "\n",
    "\n",
    "#insert ratings for target items\n",
    "target_db.drop(target_db.index, inplace=True)\n",
    "for i in target_items:\n",
    "    #print(random.sample(fake_profile,1),i,5)\n",
    "    target_db=target_db.append(pd.DataFrame({'user_id':random.sample(fake_profile,1),'item_id':i,'rating':5,'date1':[attack_date[0]]}),ignore_index=True)\n",
    "\n",
    "#insert rating for selected items\n",
    "if attack_model=='bandwagon':\n",
    "    for i in selected_items:\n",
    "        selected_db=selected_db.append(pd.DataFrame({'user_id': random.sample(fake_profile,1), 'item_id': i ,'rating':5,'date1':[attack_date[0]]}), ignore_index=True)\n",
    "\n",
    "\n",
    "#fillers selection for AOP attacks\n",
    "\n",
    "AOP_filler_db=pd.DataFrame(columns=['user_id', 'item_id', 'rating', 'date1'])\n",
    "AOP_fillers=movie_db.groupby('item_id', as_index=False)['rating'].count()\n",
    "AOP_fillers=AOP_fillers.sort_values('rating',ascending=False)\n",
    "AOP_fillers=AOP_fillers.head(int(len(AOP_fillers)*(x)))\n",
    "AOP_fillers=[x for x in AOP_fillers['item_id']]\n",
    "\n",
    "\n",
    "if attack_model=='AOP':\n",
    "    for i in AOP_fillers:\n",
    "        AOP_filler_db=AOP_filler_db.append(pd.DataFrame({'user_id':random.sample(fake_profile,1), 'item_id': i ,'rating':np.random.normal(item_info.loc[item_info['item_id']==i,'mean'],item_info.loc[item_info['item_id']==i,'var']),'date1':[attack_date[0]]}), ignore_index=True)\n",
    "    filler_db=AOP_filler_db\n",
    "\n",
    "if attack_model=='AOP':\n",
    "    print('number of filler items selected for AOP attack is: \\n',round(len(set(AOP_fillers))))\n",
    "else:\n",
    "    print('number of filler items selected is: \\n',round(filler_size*len(set(fillers))))\n",
    "\n",
    "# to first create a complete dataframe and then reshape to array\n",
    "injected_db=pd.DataFrame()\n",
    "injected_db=injected_db.append(target_db)\n",
    "injected_db=injected_db.append(filler_db)\n",
    "if attack_model=='bandwagon':\n",
    "    injected_db=injected_db.append(selected_db)\n",
    "\n",
    "movie_db=movie_db.append(injected_db,sort=True)\n",
    "movie_db.fillna(0, inplace=True)\n",
    "\n"
   ]
  },
  {
   "cell_type": "markdown",
   "metadata": {},
   "source": [
    "# reforming dataset to 3D of users, items and dates"
   ]
  },
  {
   "cell_type": "code",
   "execution_count": 7,
   "metadata": {},
   "outputs": [],
   "source": [
    "iix_n = pd.MultiIndex.from_product([np.unique(movie_db.user_id), np.unique(movie_db.date1)])\n",
    "arr = (movie_db.pivot_table('rating', ['user_id', 'date1'], 'item_id', aggfunc='sum')\n",
    "     .reindex(iix_n).to_numpy()\n",
    "     .reshape(movie_db.user_id.nunique(),movie_db.date1.nunique(),-1)\n",
    "      )\n"
   ]
  },
  {
   "cell_type": "code",
   "execution_count": null,
   "metadata": {},
   "outputs": [],
   "source": []
  },
  {
   "cell_type": "code",
   "execution_count": null,
   "metadata": {},
   "outputs": [],
   "source": []
  }
 ],
 "metadata": {
  "kernelspec": {
   "display_name": "Python 3",
   "language": "python",
   "name": "python3"
  },
  "language_info": {
   "codemirror_mode": {
    "name": "ipython",
    "version": 3
   },
   "file_extension": ".py",
   "mimetype": "text/x-python",
   "name": "python",
   "nbconvert_exporter": "python",
   "pygments_lexer": "ipython3",
   "version": "3.7.4"
  }
 },
 "nbformat": 4,
 "nbformat_minor": 2
}
